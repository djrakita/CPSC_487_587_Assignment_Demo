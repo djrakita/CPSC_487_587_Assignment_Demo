{
  "nbformat": 4,
  "nbformat_minor": 0,
  "metadata": {
    "colab": {
      "provenance": [],
      "gpuType": "T4",
      "authorship_tag": "ABX9TyMfnp2/diENYa4z1yHG2fhl",
      "include_colab_link": true
    },
    "kernelspec": {
      "name": "python3",
      "display_name": "Python 3"
    },
    "language_info": {
      "name": "python"
    },
    "accelerator": "GPU"
  },
  "cells": [
    {
      "cell_type": "markdown",
      "metadata": {
        "id": "view-in-github",
        "colab_type": "text"
      },
      "source": [
        "<a href=\"https://colab.research.google.com/github/djrakita/CPSC_487_587_Assignment_Demo/blob/main/WASPDerivatives.ipynb\" target=\"_parent\"><img src=\"https://colab.research.google.com/assets/colab-badge.svg\" alt=\"Open In Colab\"/></a>"
      ]
    },
    {
      "cell_type": "markdown",
      "source": [
        "# Imports and settings"
      ],
      "metadata": {
        "id": "479QqY1wuS8L"
      }
    },
    {
      "cell_type": "code",
      "execution_count": null,
      "metadata": {
        "id": "uQoZCcL4p-gn",
        "colab": {
          "base_uri": "https://localhost:8080/"
        },
        "outputId": "f0c55ac1-0172-4061-a959-c05fcb3e8fac"
      },
      "outputs": [
        {
          "output_type": "stream",
          "name": "stdout",
          "text": [
            "[cuda(id=0)]\n"
          ]
        }
      ],
      "source": [
        "import jax\n",
        "import jax.numpy as jnp\n",
        "\n",
        "jax.config.update(\"jax_enable_x64\", True)\n",
        "\n",
        "print(jax.devices())\n"
      ]
    },
    {
      "cell_type": "markdown",
      "source": [
        "# Derivative Engines"
      ],
      "metadata": {
        "id": "xVR7xF9ivvC0"
      }
    },
    {
      "cell_type": "markdown",
      "source": [
        "## Derivative Engine ABC"
      ],
      "metadata": {
        "id": "QrsOHyRYzwVc"
      }
    },
    {
      "cell_type": "code",
      "source": [
        "from enum import Enum\n",
        "import numpy as np\n",
        "import jax.numpy as jnp\n",
        "\n",
        "class ADMode(Enum):\n",
        "    Forward = 1,\n",
        "    Reverse = 2\n",
        "\n",
        "class DerivativeEngine:\n",
        "    def __init__(self, f, n: int, m: int):\n",
        "        self.f = f\n",
        "        self.n = n\n",
        "        self.m = m\n",
        "\n",
        "    def call(self, x: jnp.ndarray) -> jnp.ndarray:\n",
        "        return self.f(x)\n",
        "\n",
        "    def derivative(self, x) -> jnp.ndarray:\n",
        "        raise NotImplemented(\"This must be implemented in subclass\")"
      ],
      "metadata": {
        "id": "3Um5qUQ3zvy4"
      },
      "execution_count": null,
      "outputs": []
    },
    {
      "cell_type": "markdown",
      "source": [
        "## Finite Differencing engine"
      ],
      "metadata": {
        "id": "se6lwbhdvxqT"
      }
    },
    {
      "cell_type": "code",
      "source": [
        "import copy\n",
        "\n",
        "class FDDerivativeEngine(DerivativeEngine):\n",
        "    def __init__(self, f, n: int, m: int, jit_compile_f: bool = True, jit_compile_df: bool = True):\n",
        "        super().__init__(f, n, m)\n",
        "\n",
        "        if jit_compile_f:\n",
        "            self.f = jax.jit(f)\n",
        "        else:\n",
        "            self.f = f\n",
        "\n",
        "        if jit_compile_df:\n",
        "            self.df = jax.jit(self.derivative_internal)\n",
        "        else:\n",
        "            self.df = self.derivative_internal\n",
        "\n",
        "\n",
        "    def derivative_internal(self, x: jnp.ndarray) -> jnp.ndarray:\n",
        "        out = jnp.zeros((self.m, self.n))\n",
        "\n",
        "        p = 0.0000001\n",
        "\n",
        "        f0 = self.f(x)\n",
        "        for i in range(self.n):\n",
        "            xh = copy.deepcopy(x)\n",
        "            xh = x.at[i].add(p)\n",
        "            fh = self.f(xh)\n",
        "            col = (fh - f0) / p\n",
        "            out = out.at[:, i].set(col)\n",
        "\n",
        "        return out\n",
        "\n",
        "    def derivative(self, x: jnp.ndarray) -> jnp.ndarray:\n",
        "        return self.df(x)\n",
        "\n"
      ],
      "metadata": {
        "id": "rVgUozQHvsjh"
      },
      "execution_count": null,
      "outputs": []
    },
    {
      "cell_type": "code",
      "source": [
        "def f(x: jnp.ndarray) -> jnp.ndarray:\n",
        "    return jnp.array(x[0] * x[1])\n",
        "\n",
        "e = FDDerivativeEngine(f, 2, 1)\n",
        "e.derivative(jnp.array([5.0, 2.0]))"
      ],
      "metadata": {
        "colab": {
          "base_uri": "https://localhost:8080/"
        },
        "id": "N_Z-118f1vXX",
        "outputId": "a2258f30-a352-4ee7-cb13-b3db07c09ba5"
      },
      "execution_count": null,
      "outputs": [
        {
          "output_type": "execute_result",
          "data": {
            "text/plain": [
              "Array([[2.00000001, 4.99999999]], dtype=float64)"
            ]
          },
          "metadata": {},
          "execution_count": 51
        }
      ]
    },
    {
      "cell_type": "markdown",
      "source": [
        "## JAX engine"
      ],
      "metadata": {
        "id": "X1yZq6dd2_0v"
      }
    },
    {
      "cell_type": "code",
      "source": [
        "class JaxDerivativeEngine(DerivativeEngine):\n",
        "    def __init__(self, f, n: int, m: int, jit_compile_f: bool = True, jit_compile_df: bool = True, ad_mode: ADMode = ADMode.Reverse):\n",
        "        super().__init__(f, n, m)\n",
        "\n",
        "        self.ad_mode = ad_mode\n",
        "\n",
        "        if jit_compile_f:\n",
        "            self.f = jax.jit(f)\n",
        "\n",
        "        if self.ad_mode == ADMode.Forward:\n",
        "            self.jac_fn = jax.jacfwd(self.f)\n",
        "        elif self.ad_mode == ADMode.Reverse:\n",
        "            self.jac_fn = jax.jacrev(self.f)\n",
        "\n",
        "        if jit_compile_df:\n",
        "            self.jac_fn = jax.jit(self.jac_fn)\n",
        "\n",
        "    def derivative(self, x: jnp.ndarray) -> jnp.ndarray:\n",
        "        return self.jac_fn(x)"
      ],
      "metadata": {
        "id": "mfq8hUz_2_d-"
      },
      "execution_count": null,
      "outputs": []
    },
    {
      "cell_type": "code",
      "source": [
        "def f(x: jnp.ndarray) -> jnp.ndarray:\n",
        "    return jnp.array(x[0] * x[1])\n",
        "\n",
        "e = JaxDerivativeEngine(f, 2, 1)\n",
        "e.derivative(jnp.array([5.0, 2.0]))"
      ],
      "metadata": {
        "colab": {
          "base_uri": "https://localhost:8080/"
        },
        "id": "dquhMsqq43zg",
        "outputId": "9e83280b-c1ac-4028-d8a7-3dde06b03dab"
      },
      "execution_count": 59,
      "outputs": [
        {
          "output_type": "execute_result",
          "data": {
            "text/plain": [
              "Array([2., 5.], dtype=float64)"
            ]
          },
          "metadata": {},
          "execution_count": 59
        }
      ]
    },
    {
      "cell_type": "markdown",
      "source": [
        "## WASP engine"
      ],
      "metadata": {
        "id": "sWuHO3IF8lrJ"
      }
    },
    {
      "cell_type": "code",
      "source": [
        "class WASPDerivativeEngine(DerivativeEngine):\n",
        "    def __init__(self, f, n: int, m: int, jit_compile_f: bool = True, jit_compile_df: bool = True):\n",
        "        super().__init__(f, n, m)\n",
        "\n",
        "        if jit_compile_f:\n",
        "            self.f = jax.jit(f)\n",
        "        else:\n",
        "            self.f = f\n",
        "\n",
        "        if jit_compile_df:\n",
        "            self.df = jax.jit(self.derivative_internal)\n",
        "        else:\n",
        "            self.df = self.derivative_internal\n",
        "\n",
        "    def _derivative_internal_loop(self, x, recursive_call=False, f0=None):\n",
        "        pass\n",
        "\n",
        "    def derivative_internal(self, x: jnp.ndarray) -> jnp.ndarray:\n",
        "        pass\n",
        "\n",
        "    def derivative(self, x: jnp.ndarray) -> jnp.ndarray:\n",
        "        return self.df(x)"
      ],
      "metadata": {
        "id": "YrJJwyjG63GD"
      },
      "execution_count": 61,
      "outputs": []
    }
  ]
}